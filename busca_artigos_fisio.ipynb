{
 "cells": [
  {
   "attachments": {},
   "cell_type": "markdown",
   "metadata": {},
   "source": [
    "# Extração de dados"
   ]
  },
  {
   "cell_type": "markdown",
   "metadata": {},
   "source": [
    "## Contexto:\n",
    "\n",
    "A  Physiotherapy Evidence Database (PEDro) foi utlizada, pois é uma base de dados especificamente para artigos de fisioterapia.\n",
    "A motivação para o projeto foi a minha propria experiencia profissional e as discussões com colegas de profissão, levantando a problematica do nível de qualidade das evidencias científicas para fundamentar as condutas terapêuticas, pois não há possibilidade de entregar um bom atendimento sem fundamenta-lo em informações confiáveis e de qualidade.\n",
    "\n",
    "Esse notebook é a parte inicial para poder montar a base de dados utilizada nas análises, que estão apresentadas no outro notebook do repositório."
   ]
  },
  {
   "attachments": {},
   "cell_type": "markdown",
   "metadata": {},
   "source": [
    "## Objetivo:\n",
    "- Detectar artigos com o tema de estudo. Para esse exemplo foi escolhido a acupuntura\n",
    "- Extrair informações relevantes sobre os artigos encontrados e armazena-los de maneira adequada"
   ]
  },
  {
   "attachments": {},
   "cell_type": "markdown",
   "metadata": {},
   "source": [
    "# 1.Carregando bibliotecas"
   ]
  },
  {
   "cell_type": "code",
   "execution_count": 3,
   "metadata": {},
   "outputs": [],
   "source": [
    "import pandas as pd\n",
    "import re\n",
    "\n",
    "from queue import Full\n",
    "from selenium import webdriver\n",
    "from selenium.webdriver.chrome.service import Service\n",
    "from selenium.webdriver.common.by import By\n",
    "from time import sleep\n",
    "from webdriver_manager.chrome import ChromeDriverManager"
   ]
  },
  {
   "attachments": {},
   "cell_type": "markdown",
   "metadata": {},
   "source": [
    "# 2.Inicializando o driver do chrome e acessando o endereço"
   ]
  },
  {
   "attachments": {},
   "cell_type": "markdown",
   "metadata": {},
   "source": [
    "- Podemos escolher entre visualizar todo o processo ou esconder o navegador"
   ]
  },
  {
   "attachments": {},
   "cell_type": "markdown",
   "metadata": {},
   "source": [
    "Opção com visualização do processo no navegador"
   ]
  },
  {
   "cell_type": "code",
   "execution_count": 4,
   "metadata": {},
   "outputs": [],
   "source": [
    "# driver = webdriver.Chrome()\n",
    "from webdriver_manager.core.utils import ChromeType\n",
    "driver = webdriver.Chrome(service=Service(ChromeDriverManager(chrome_type=ChromeType.BRAVE).install()))\n",
    "driver.maximize_window()\n",
    "driver.get(\"https://pedro.org.au/\")\n",
    "# O método sleep é utilizado aqui para permitir o carregamento da página, evitando a quebra do código durante a execução\n",
    "sleep(2)"
   ]
  },
  {
   "attachments": {},
   "cell_type": "markdown",
   "metadata": {},
   "source": [
    "\"Escondendo navegador\""
   ]
  },
  {
   "cell_type": "code",
   "execution_count": 5,
   "metadata": {},
   "outputs": [],
   "source": [
    "# options = webdriver.ChromeOptions()\n",
    "# options.add_argument(\"--headless\")\n",
    "# driver = webdriver.Chrome(options=options)\n",
    "# driver.get(\"https://pedro.org.au/\")\n",
    "# sleep(2)"
   ]
  },
  {
   "attachments": {},
   "cell_type": "markdown",
   "metadata": {},
   "source": [
    "Criando a função de busca nos campos"
   ]
  },
  {
   "cell_type": "code",
   "execution_count": 6,
   "metadata": {},
   "outputs": [],
   "source": [
    "def caixa_busca(nome, cod):\n",
    "    if cod != \"\":\n",
    "        driver.find_element(By.ID, nome).send_keys(cod)\n",
    "    else:\n",
    "        pass"
   ]
  },
  {
   "attachments": {},
   "cell_type": "markdown",
   "metadata": {},
   "source": [
    "# 3.Interagindo com a página e escolhendo parametros para busca"
   ]
  },
  {
   "attachments": {},
   "cell_type": "markdown",
   "metadata": {},
   "source": [
    "## 3.1.Identificando botão para a página de busca"
   ]
  },
  {
   "cell_type": "code",
   "execution_count": 7,
   "metadata": {},
   "outputs": [],
   "source": [
    "botao0 = driver.find_element(By.XPATH, \"/html/body/header/div/nav[2]/div/div/ul/li[1]/a\")\n",
    "botao0.click()\n",
    "sleep(2)"
   ]
  },
  {
   "attachments": {},
   "cell_type": "markdown",
   "metadata": {},
   "source": [
    "## 3.2.Enviando as informações para busca dos artigos"
   ]
  },
  {
   "cell_type": "code",
   "execution_count": 8,
   "metadata": {},
   "outputs": [],
   "source": [
    "# Campo para especificar o titulo/resumo (livre)\n",
    "# caixa_busca('abstract_with_title', '')\n",
    "caixa_busca('abstract_with_title', 'acupuncture')\n",
    "\n",
    "# -----------------------------------------------------------------------------------------\n",
    "# Campo para especificar a região do corpo (lista predeterminada)\n",
    "# regiao = [\n",
    "#    'head or neck', 'upper arm, shoulder or shoulder gridle', 'forearm or elbow',\n",
    "#    'hand or wrist', 'chest', 'thoracic spine', 'lumbar spine, sacro-iliac joint or pelvis',\n",
    "#    'perinium or genito-urinary system', 'thigh or hip', 'lower leg or knee', 'foot or ankle'\n",
    "#    ]\n",
    "# caixa_busca('body_part', 'upper arm, shoulder or shoulder gridle')\n",
    "\n",
    "# -----------------------------------------------------------------------------------------\n",
    "# Campo para especificar o metodo do artigo (lista predeterminada)\n",
    "lista_metodo = ['practice guideline', 'systematic review', 'clinical trial']\n",
    "# met = lista_metodo[]\n",
    "met = lista_metodo[2]\n",
    "caixa_busca('method', '')\n",
    "\n",
    "# -----------------------------------------------------------------------------------------\n",
    "# Campo para especificar desde que ano queremos publicações (livre)\n",
    "# caixa_busca('year_of_publication', '')\n",
    "caixa_busca('year_of_publication', '')\n",
    "\n",
    "# -----------------------------------------------------------------------------------------\n",
    "# Campo para especificar a pontuação minima na escala PEDro (de 1 a 10)\n",
    "# caixa_busca('nscore', '')\n",
    "caixa_busca('nscore', '')\n",
    "\n",
    "# -----------------------------------------------------------------------------------------\n",
    "# Campo para especificar a quantidade de artigos por pagina (lista predeterminada porém\n",
    "# estabeleci em 50, pois assim é necessário menos interações com a pagina)\n",
    "# caixa_busca('perpage', '')\n",
    "caixa_busca('perpage', '50')\n",
    "\n",
    "# -----------------------------------------------------------------------------------------\n",
    "# Botão para iniciar a busca\n",
    "botao1 = driver.find_element(By.CLASS_NAME, \"button\")\n",
    "botao1.click()\n",
    "sleep(2)"
   ]
  },
  {
   "attachments": {},
   "cell_type": "markdown",
   "metadata": {},
   "source": [
    "# 4.Passando pelas paginas de resultados e armazenando dados iniciais"
   ]
  },
  {
   "cell_type": "code",
   "execution_count": 9,
   "metadata": {},
   "outputs": [
    {
     "name": "stdout",
     "output_type": "stream",
     "text": [
      "\n",
      "============================\n",
      "3765 artigo(s) encontrado(s)\n",
      "============================\n"
     ]
    }
   ],
   "source": [
    "proxima_pagina = driver.find_elements(By.PARTIAL_LINK_TEXT, '»')\n",
    "lista_geral_titulo = []\n",
    "lista_geral_links = []\n",
    "lista_scihub = []\n",
    "\n",
    "try:\n",
    "    while proxima_pagina != False:\n",
    "        lista_pagina = driver.find_elements(By.CLASS_NAME, \"left\")\n",
    "        for titulo in lista_pagina:\n",
    "            lista_geral_titulo.append(titulo.text)\n",
    "            lista_geral_links.append(titulo.get_attribute('href'))\n",
    "        sleep(1)\n",
    "        proxima_pagina = driver.find_element(By.PARTIAL_LINK_TEXT, '»')\n",
    "        proxima_pagina.click()\n",
    "except:\n",
    "    print(\"\")\n",
    "    print(\"=\"*28)\n",
    "    print(\"{} artigo(s) encontrado(s)\".format(len(lista_geral_titulo)))\n",
    "    print(\"=\"*28)"
   ]
  },
  {
   "attachments": {},
   "cell_type": "markdown",
   "metadata": {},
   "source": [
    "# 5.Extraindo informações dos artigos encontrados"
   ]
  },
  {
   "cell_type": "code",
   "execution_count": 9,
   "metadata": {},
   "outputs": [],
   "source": [
    "n = len(lista_geral_titulo)\n",
    "selecao_artigos = [i for i in range(1, n+1)]\n",
    "lista_revistas = []\n",
    "lista_tipos = []\n",
    "lista_escalas = []\n",
    "\n",
    "for num in selecao_artigos:\n",
    "    num = int(num)\n",
    "    num -= 1\n",
    "    driver.get(lista_geral_links[num])\n",
    "    sleep(2)\n",
    "    revista = driver.find_element(By.XPATH, '//*[@id=\"search-content\"]/table/tbody/tr[3]/td')\n",
    "    tipo = driver.find_element(By.XPATH, '//*[@id=\"search-content\"]/table/tbody/tr[4]/td')\n",
    "    try:\n",
    "        escala_pedro = driver.find_element(By.XPATH, '//*[@id=\"search-content\"]/table/tbody/tr[5]')\n",
    "    except:\n",
    "        escala_pedro = driver.find_element(By.XPATH, '//*[@id=\"search-content\"]/table/tbody/tr[5]/td')\n",
    "    finally:\n",
    "        pass\n",
    "    lista_revistas.append(revista.text)\n",
    "    lista_tipos.append(tipo.text.upper())\n",
    "    if met == lista_metodo[2]:\n",
    "        try:\n",
    "            lista_escalas.append(escala_pedro.text[0])\n",
    "        except:\n",
    "            lista_escalas.append('-')\n",
    "            pass\n",
    "    else:\n",
    "        pass"
   ]
  },
  {
   "attachments": {},
   "cell_type": "markdown",
   "metadata": {},
   "source": [
    "# 6.Criando dataframe sobre o tema pesquisado"
   ]
  },
  {
   "cell_type": "code",
   "execution_count": 13,
   "metadata": {},
   "outputs": [],
   "source": [
    "df_acupuntura = pd.DataFrame([lista_geral_titulo, lista_escalas, lista_revistas, lista_tipos])\n",
    "df_acupuntura = df_acupuntura.T\n",
    "df_acupuntura.columns = ['titulo', 'escala pedro', 'revista', 'tipo estudo']\n"
   ]
  },
  {
   "attachments": {},
   "cell_type": "markdown",
   "metadata": {},
   "source": [
    "# 7. Extraindo o ano de publicação "
   ]
  },
  {
   "cell_type": "code",
   "execution_count": 14,
   "metadata": {},
   "outputs": [],
   "source": [
    "lista_ano = []\n",
    "\n",
    "for item in df_acupuntura['revista']:\n",
    "    ano = re.search(r'\\d{4}', item)\n",
    "    lista_ano.append(int(ano.group()))"
   ]
  },
  {
   "attachments": {},
   "cell_type": "markdown",
   "metadata": {},
   "source": [
    "# 8.Criando dataframe final e salvando"
   ]
  },
  {
   "cell_type": "code",
   "execution_count": 15,
   "metadata": {},
   "outputs": [],
   "source": [
    "df_acupuntura = pd.concat([df_acupuntura, pd.DataFrame(lista_ano)], axis=1)"
   ]
  },
  {
   "cell_type": "code",
   "execution_count": 16,
   "metadata": {},
   "outputs": [],
   "source": [
    "df_acupuntura.columns = ['titulo', 'escala pedro', 'revista', 'tipo estudo', 'ano']"
   ]
  },
  {
   "cell_type": "code",
   "execution_count": 17,
   "metadata": {},
   "outputs": [],
   "source": [
    "df_acupuntura.to_csv(r'data/acupuntura.csv')"
   ]
  }
 ],
 "metadata": {
  "kernelspec": {
   "display_name": "Python 3",
   "language": "python",
   "name": "python3"
  },
  "language_info": {
   "codemirror_mode": {
    "name": "ipython",
    "version": 3
   },
   "file_extension": ".py",
   "mimetype": "text/x-python",
   "name": "python",
   "nbconvert_exporter": "python",
   "pygments_lexer": "ipython3",
   "version": "3.10.4 (tags/v3.10.4:9d38120, Mar 23 2022, 23:13:41) [MSC v.1929 64 bit (AMD64)]"
  },
  "orig_nbformat": 4,
  "vscode": {
   "interpreter": {
    "hash": "2852de53f51e57db0fb3c92b7d03cd28fd1e6acc643c7bf23f4addc7db48be7a"
   }
  }
 },
 "nbformat": 4,
 "nbformat_minor": 2
}
